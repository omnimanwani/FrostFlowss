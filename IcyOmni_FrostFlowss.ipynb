{
  "cells": [
    {
      "cell_type": "markdown",
      "metadata": {
        "id": "view-in-github",
        "colab_type": "text"
      },
      "source": [
        "<a href=\"https://colab.research.google.com/github/omnimanwani/FrostFlowss/blob/main/IcyOmni_FrostFlowss.ipynb\" target=\"_parent\"><img src=\"https://colab.research.google.com/assets/colab-badge.svg\" alt=\"Open In Colab\"/></a>"
      ]
    },
    {
      "cell_type": "markdown",
      "metadata": {
        "id": "f9442159"
      },
      "source": [
        "\n",
        "## **Introduction**\n",
        "This project focuses on **optimizing budget distribution** across **multiple advertising channels**, including Google Ads, Microsoft Ads, and Meta Ads. The goal is to allocate the budget in a way that **maximizes conversions** while **minimizing the costs**.\n",
        "\n",
        "**Problem:** AI-Driven Media Investment Plan Across Channels for E-commerce to maximize customer coversion rate.\n",
        "\n",
        "**Solution:** Applying the concept of Multi Objective Optimization and NSGA-II algorithm for budget allocation, to handle conflicting factors and finding the optimized budget allocation ratio amongst different media channels.\n",
        "    "
      ]
    },
    {
      "cell_type": "markdown",
      "metadata": {
        "id": "4d503364"
      },
      "source": [
        "\n",
        "## **Libraries and Versions**\n",
        "The following libraries are used in this notebook:\n",
        "    \n",
        "```python\n",
        "%pip install pandas==1.3.3\n",
        "%pip install scikit-learn==0.24.2\n",
        "%pip install numpy==1.21.2\n",
        "%pip install matplotlib==3.4.3\n",
        "%pip install seaborn==0.11.2\n",
        "```\n",
        "    "
      ]
    },
    {
      "cell_type": "markdown",
      "metadata": {
        "id": "7bc43c86"
      },
      "source": [
        "\n",
        "## **Approach and Methodology**\n",
        "### **Data Processing**\n",
        "Data cleaning and preprocessing steps are performed to ensure that the input data is in a usable format. This includes handling missing values, encoding categorical variables, and normalizing numerical features.\n",
        "\n",
        "### **Algorithm**\n",
        "The algorithm for budget allocation involves calculating **metrics with **\n",
        "1. Cost per Click (CPC),\n",
        "2. Cost per Conversion (CPC),\n",
        "3. Revenue, and\n",
        "4. Conversion Rate.\n",
        "\n",
        "The budget is then distributed based on weighted factors that align with the campaign's goals.\n",
        "\n",
        " NSGA-II was used to **optimize the distribution of the budget** across different advertising channels. The objectives included\n",
        "- Minimizing the Cost per Click (CPC) and Cost per Conversion (CPC),\n",
        "- Maximizing Revenue and Conversion Rate\n",
        "\n",
        "### **Assumptions**\n",
        "1. All channels have at least a minimum of 10% of the total budget allocated.\n",
        "2. Conversion rates and revenue data are accurate and reflect real-time performance.\n",
        "3. There is atleast one conflicting factor in budget analysing and distribution (as Revenue and Cost/Click or Cost/Conversion)\n",
        "    "
      ]
    },
    {
      "cell_type": "markdown",
      "metadata": {
        "id": "68165f7d"
      },
      "source": [
        "##**Technique used:** Multi-Objective Optimization (MOO) Technique\n",
        "\n",
        "### **What is MOO?**\n",
        "Multi-Objective Optimization (MOO) involves optimizing multiple conflicting objectives simultaneously. In the context of budget allocation, these objectives include minimizing costs while maximizing conversions and revenue. MOO doesn't yield a single solution but rather a set of optimal solutions known as the Pareto front, where no objective can be improved without degrading another.\n",
        "\n",
        "### **Why MOO?**\n",
        "In real-world scenarios, especially in marketing and budget allocation, it's common to have multiple goals that conflict with each other. For example, a campaign might aim to minimize the cost per conversion while maximizing total revenue. MOO allows us to find a balance between these competing goals, providing a more comprehensive and effective solution.\n"
      ]
    },
    {
      "cell_type": "markdown",
      "metadata": {
        "id": "e61a1514"
      },
      "source": [
        "\n",
        "## **NSGA-II (Non-dominated Sorting Genetic Algorithm II)**\n",
        "\n",
        "#### **What is NSGA-II?**\n",
        "NSGA-II is an evolutionary algorithm used for solving multi-objective optimization problems. It is one of the most popular and widely used algorithms in the MOO domain due to its effectiveness in finding a diverse set of Pareto-optimal solutions. The algorithm works by evolving a population of potential solutions over several generations, using mechanisms inspired by natural selection, such as crossover, mutation, and selection.\n",
        "\n",
        "#### **How NSGA-II Works?**\n",
        "1. **Initialization**: A random population of potential solutions is generated.\n",
        "2. **Non-dominated Sorting**: The solutions are sorted into different fronts based on dominance, where a solution is said to dominate another if it is better in at least one objective and not worse in any other.\n",
        "3. **Crowding Distance Calculation**: Within each front, solutions are ranked based on crowding distance, which helps maintain diversity in the population.\n",
        "4. **Selection, Crossover, and Mutation**: The best solutions are selected to form a new population, which undergoes crossover and mutation to generate new solutions.\n",
        "5. **Convergence**: Over several generations, the algorithm converges towards the Pareto front, providing a set of optimal solutions that balance the different objectives.\n",
        "\n",
        "#### **Why NSGA-II?**\n",
        "NSGA-II is particularly well-suited for budget allocation problems where multiple conflicting objectives need to be balanced. Its ability to provide a diverse set of solutions allows decision-makers to choose a solution that best aligns with their specific priorities.\n",
        "\n",
        "### **Application in Budget Distribution**\n",
        "In this project, NSGA-II was used to **optimize the distribution of the budget** across different advertising channels. The objectives included\n",
        "- Minimizing the Cost per Click (CPC) and Cost per Conversion (CPC),\n",
        "- Maximizing Revenue and Conversion Rate\n",
        "- By using NSGA-II, we obtained a set of optimal budget allocations that balanced these conflicting objectives, allowing for more informed decision-making.\n"
      ]
    },
    {
      "cell_type": "markdown",
      "metadata": {
        "id": "LiyPdg9MuI92"
      },
      "source": [
        "## **Libraries with versions**"
      ]
    },
    {
      "cell_type": "code",
      "execution_count": null,
      "metadata": {
        "id": "FT-jwQuFhq9B"
      },
      "outputs": [],
      "source": [
        "%pip install pandas==2.1.4 -q\n",
        "%pip install scikit-learn==1.3.2 -q\n",
        "%pip install matplotlib==3.7.1 -q\n",
        "%pip install seaborn==0.13.1 -q\n",
        "%pip install numpy==1.26.4 -q\n",
        "%pip install deap==1.4 -q"
      ]
    },
    {
      "cell_type": "code",
      "execution_count": null,
      "metadata": {
        "id": "p879N8_uhklH"
      },
      "outputs": [],
      "source": [
        "import pandas as pd\n",
        "import numpy as np\n",
        "from sklearn.model_selection import train_test_split\n",
        "from sklearn.ensemble import RandomForestRegressor\n",
        "from sklearn.metrics import mean_squared_error, r2_score\n",
        "from deap import base, creator, tools, algorithms\n",
        "import random\n",
        "import matplotlib.pyplot as plt"
      ]
    },
    {
      "cell_type": "markdown",
      "metadata": {
        "id": "6nYleEYguVOQ"
      },
      "source": [
        "## **Load Datasets**\n",
        "\n"
      ]
    },
    {
      "cell_type": "code",
      "execution_count": null,
      "metadata": {
        "id": "686Hs79Xhrck"
      },
      "outputs": [],
      "source": [
        "# Uploaded datasets on dropbox for easy access\n",
        "# Load Data from Dataset 1.\n",
        "google_ads = pd.read_csv('https://www.dropbox.com/scl/fi/eze1d73tkxg67n61pdale/googleads-performance.csv?rlkey=q8fv8lkhaw6grblgdo0iwl7cw&st=5u0ruuy2&dl=1')\n",
        "meta_ads = pd.read_csv('https://www.dropbox.com/scl/fi/0q0d07dqqx17y3sw5vhdv/metaads-performance.csv?rlkey=z15r4884h3nznn54voh5ut7tg&st=hvygvp8n&dl=1')\n",
        "microsoft_ads = pd.read_csv('https://www.dropbox.com/scl/fi/x6yluicpqr8mbqq7nsmu5/microsoftads-performance.csv?rlkey=1cpgw7u8jflk92z42zu5rff29&st=o3w3w0an&dl=1')\n",
        "website_landings = pd.read_csv('https://www.dropbox.com/scl/fi/9exan41vrzjcv5tch44ll/website-landings.csv?rlkey=v5gzbk8qnjo6i1g6zjyid9a2p&st=gbw0tdn3&dl=1')\n",
        "\n",
        "# Load Files fom dataset 2\n",
        "##uncomment to load files from another dataset.\n",
        "# google_ads = pd.read_csv('https://www.dropbox.com/scl/fi/v9kn1u024863gxe26k4m0/googlead-performance.csv?rlkey=nkraffyrf3qx0cduoa8hs0z0n&st=9xs0hswg&dl=1')\n",
        "# meta_ads = pd.read_csv('https://www.dropbox.com/scl/fi/da5js4bvwe5r1nyu6m696/metaads-performance.csv?rlkey=pwljt8gqhjk06ny46sjop2zc6&st=b96daf6p&dl=1')\n",
        "# microsoft_ads = pd.read_csv('https://www.dropbox.com/scl/fi/af3egw46u8t14k5hw093e/microsoftads-performance.csv?rlkey=fmuqhz8cbhc36pi9a9i4jv1tz&st=c80m2u34&dl=1')\n",
        "# website_ladings = pd.read_csv('https://www.dropbox.com/scl/fi/tw7lzuybe32d3psrtbe0g/website-landings.csv?rlkey=htsngc5k6i1ipqkecq6lfta9x&st=m8nsk26m&dl=1')"
      ]
    },
    {
      "cell_type": "code",
      "execution_count": null,
      "metadata": {
        "colab": {
          "base_uri": "https://localhost:8080/"
        },
        "id": "kspzXrCeqwwZ",
        "outputId": "9b8c899a-0d50-4a9d-b74d-48d2f0e1b030"
      },
      "outputs": [
        {
          "output_type": "stream",
          "name": "stdout",
          "text": [
            "            Date     Campaign type  Impressions  Clicks    Cost  Conversions  \\\n",
            "0     2024-01-01     Cross-network     143669.0   896.0   656.3          6.5   \n",
            "1     2024-01-01   Display Network          3.0     0.0     0.0          0.0   \n",
            "2     2024-01-01    Search Network       3701.0   251.0   496.5          4.5   \n",
            "3     2024-01-01           YouTube      36211.0     8.0   115.2          0.0   \n",
            "4     2024-01-02     Cross-network     183496.0  1172.0  1525.0          8.8   \n",
            "...          ...               ...          ...     ...     ...          ...   \n",
            "1612  2024-06-29          Shopping      29992.0   181.0   102.4          4.0   \n",
            "1613  2024-06-30          Audience      10018.0   115.0    22.1          0.0   \n",
            "1614  2024-06-30   Performance max      40481.0   328.0   275.3          2.0   \n",
            "1615  2024-06-30  Search & content      40731.0   269.0   201.8          7.0   \n",
            "1616  2024-06-30          Shopping      22174.0   159.0    89.0          1.0   \n",
            "\n",
            "      Revenue   Platform  \n",
            "0      1410.3     Google  \n",
            "1         0.0     Google  \n",
            "2       576.4     Google  \n",
            "3         0.0     Google  \n",
            "4      3565.7     Google  \n",
            "...       ...        ...  \n",
            "1612   2321.1  Microsoft  \n",
            "1613      0.0  Microsoft  \n",
            "1614    289.2  Microsoft  \n",
            "1615    400.7  Microsoft  \n",
            "1616    116.8  Microsoft  \n",
            "\n",
            "[1617 rows x 8 columns]\n"
          ]
        }
      ],
      "source": [
        "meta_ads['Campaign type'] = 'Audience'\n",
        "meta_ads = meta_ads.drop(columns=['Reach'])\n",
        "\n",
        "google_ads['Platform'] = 'Google'\n",
        "meta_ads['Platform'] = 'Meta'\n",
        "microsoft_ads['Platform'] = 'Microsoft'\n",
        "\n",
        "campaign_data = pd.concat([google_ads, meta_ads, microsoft_ads], ignore_index=True)\n",
        "print(campaign_data)\n"
      ]
    },
    {
      "cell_type": "code",
      "execution_count": null,
      "metadata": {
        "colab": {
          "base_uri": "https://localhost:8080/"
        },
        "id": "l8jR2vBzib7H",
        "outputId": "b8d58156-2313-481d-c9c7-8d9e3b492117"
      },
      "outputs": [
        {
          "output_type": "stream",
          "name": "stdout",
          "text": [
            "           Date     Campaign type  Impressions  Clicks    Cost  Conversions  \\\n",
            "0    2024-01-01     Cross-network     143669.0   896.0   656.3          6.5   \n",
            "1    2024-01-01   Display Network          3.0     0.0     0.0          0.0   \n",
            "2    2024-01-01    Search Network       3701.0   251.0   496.5          4.5   \n",
            "3    2024-01-01           YouTube      36211.0     8.0   115.2          0.0   \n",
            "4    2024-01-02     Cross-network     183496.0  1172.0  1525.0          8.8   \n",
            "..          ...               ...          ...     ...     ...          ...   \n",
            "716  2024-06-29          Shopping      29992.0   181.0   102.4          4.0   \n",
            "717  2024-06-30          Audience      10018.0   115.0    22.1          0.0   \n",
            "718  2024-06-30   Performance max      40481.0   328.0   275.3          2.0   \n",
            "719  2024-06-30  Search & content      40731.0   269.0   201.8          7.0   \n",
            "720  2024-06-30          Shopping      22174.0   159.0    89.0          1.0   \n",
            "\n",
            "     Revenue   Platform        CPC       CPI        ROI  \n",
            "0     1410.3     Google   0.732478  0.004568   2.148865  \n",
            "1        0.0     Google   0.000000  0.000000   0.000000  \n",
            "2      576.4     Google   1.978088  0.134153   1.160926  \n",
            "3        0.0     Google  14.400000  0.003181   0.000000  \n",
            "4     3565.7     Google   1.301195  0.008311   2.338164  \n",
            "..       ...        ...        ...       ...        ...  \n",
            "716   2321.1  Microsoft   0.565746  0.003414  22.666992  \n",
            "717      0.0  Microsoft   0.192174  0.002206   0.000000  \n",
            "718    289.2  Microsoft   0.839329  0.006801   1.050490  \n",
            "719    400.7  Microsoft   0.750186  0.004954   1.985629  \n",
            "720    116.8  Microsoft   0.559748  0.004014   1.312360  \n",
            "\n",
            "[1617 rows x 11 columns]\n"
          ]
        }
      ],
      "source": [
        "campaign_data = pd.concat([google_ads, meta_ads, microsoft_ads])\n",
        "\n",
        "# Date,Campaign type,Impressions,Clicks,Cost,Conversions,Revenue\n",
        "data = campaign_data\n",
        "data['CPC'] = np.where(data['Clicks'] != 0, data['Cost'] / data['Clicks'], 0)\n",
        "data['CPI'] = np.where(data['Impressions'] != 0, data['Cost'] / data['Impressions'], 0)\n",
        "data['ROI'] = np.where(data['Cost'] != 0, data['Revenue'] / data['Cost'], 0)\n",
        "print(data)"
      ]
    },
    {
      "cell_type": "markdown",
      "source": [
        "## **Dataset Training**"
      ],
      "metadata": {
        "id": "KBtN6Y7iKbPI"
      }
    },
    {
      "cell_type": "code",
      "execution_count": null,
      "metadata": {
        "id": "Sp3x0l_FmCn6"
      },
      "outputs": [],
      "source": [
        "X = data[['Impressions', 'Clicks', 'Cost', 'Campaign type', 'Platform']]  # Feature matrix\n",
        "y_conversions = data['Conversions']  # Target for conversions\n",
        "y_revenue = data['Revenue']  # Target for revenue\n",
        "\n",
        "# One-hot encoding for categorical features (e.g., 'Campaign Type' and 'Platform')\n",
        "X = pd.get_dummies(X)\n",
        "\n",
        "# Split data into training and testing sets\n",
        "X_train, X_test, y_train_conv, y_test_conv = train_test_split(X, y_conversions, test_size=0.3, random_state=42)\n",
        "_, _, y_train_rev, y_test_rev = train_test_split(X, y_revenue, test_size=0.3, random_state=42)"
      ]
    },
    {
      "cell_type": "markdown",
      "source": [
        "## **Algorithm Implementation**\n",
        "The following section contains the code implementation of data cleaning, preprocessing, and the budget allocation algorithm."
      ],
      "metadata": {
        "id": "Ige7CoawKlrV"
      }
    },
    {
      "cell_type": "code",
      "execution_count": null,
      "metadata": {
        "colab": {
          "base_uri": "https://localhost:8080/"
        },
        "id": "CeF6_nZAC9Jh",
        "outputId": "3a458788-51c3-4bd8-9679-fddf827dbaf2"
      },
      "outputs": [
        {
          "output_type": "stream",
          "name": "stderr",
          "text": [
            "/usr/local/lib/python3.10/dist-packages/deap/creator.py:185: RuntimeWarning: A class named 'FitnessMulti' has already been created and it will be overwritten. Consider deleting previous creation of that class or rename it.\n",
            "  warnings.warn(\"A class named '{0}' has already been created and it \"\n",
            "/usr/local/lib/python3.10/dist-packages/deap/creator.py:185: RuntimeWarning: A class named 'Individual' has already been created and it will be overwritten. Consider deleting previous creation of that class or rename it.\n",
            "  warnings.warn(\"A class named '{0}' has already been created and it \"\n"
          ]
        },
        {
          "output_type": "stream",
          "name": "stdout",
          "text": [
            "\n",
            "Best Budget Allocation:\n",
            "Google Ads: 28.27%\n",
            "Meta Ads: 25.83%\n",
            "Microsoft Ads: 45.90%\n",
            "\n",
            "\n",
            "Cost/Click (CPC): 0.68\n",
            "Cost/Impression (CPI): 0.00\n",
            "Conversion Rate: 2.90%\n"
          ]
        }
      ],
      "source": [
        "# Initialize models\n",
        "model_conversions = RandomForestRegressor(random_state=42)\n",
        "model_conversions.fit(X_train, y_train_conv)\n",
        "\n",
        "model_revenue = RandomForestRegressor(random_state=42)\n",
        "model_revenue.fit(X_train, y_train_rev)\n",
        "\n",
        "# Define the fitness function for NSGA-II\n",
        "def fitness_function(individual):\n",
        "    budget_google, budget_meta, budget_microsoft = individual\n",
        "\n",
        "    # Ensure at least 10% budget allocation to each channel and sum of allocations = 1\n",
        "    if any(budget < 0.1 for budget in individual) or not np.isclose(sum(individual), 1.0):\n",
        "        return -float('inf'), -float('inf'), float('inf'), -float('inf')\n",
        "\n",
        "    # Allocate budgets\n",
        "    budget_allocation = {\n",
        "        'Google': budget_google,\n",
        "        'Meta': budget_meta,\n",
        "        'Microsoft': budget_microsoft\n",
        "    }\n",
        "\n",
        "    # Create a budget column in the dataframe based on allocation\n",
        "    data['Allocated_Budget'] = data.apply(lambda row: row['Cost'] * budget_allocation.get(row['Platform'], 0), axis=1)\n",
        "\n",
        "    # Handle any missing or infinite values after allocation\n",
        "    data['Allocated_Budget'].replace([np.inf, -np.inf], np.nan, inplace=True)\n",
        "    data['Allocated_Budget'].fillna(0, inplace=True)\n",
        "\n",
        "    # Use both 'Cost' and 'Allocated_Budget' in prediction\n",
        "    X_budget = data[['Impressions', 'Clicks', 'Cost', 'Allocated_Budget', 'Campaign type', 'Platform']]\n",
        "    X_budget = pd.get_dummies(X_budget)\n",
        "\n",
        "    # Align columns with the training data\n",
        "    missing_cols = set(X_train.columns) - set(X_budget.columns)\n",
        "    for col in missing_cols:\n",
        "        X_budget[col] = 0\n",
        "    X_budget = X_budget[X_train.columns]\n",
        "\n",
        "    # Predict conversions and revenue using the trained models\n",
        "    predicted_conversions = model_conversions.predict(X_budget).sum()\n",
        "    predicted_revenue = model_revenue.predict(X_budget).sum()\n",
        "\n",
        "    # Calculate total cost\n",
        "    total_cost = data['Allocated_Budget'].sum()\n",
        "\n",
        "    # The fitness function returns negative predictions because we are maximizing these objectives\n",
        "    return -predicted_conversions, -predicted_revenue, total_cost, -total_clicks\n",
        "\n",
        "# NSGA-II setup\n",
        "creator.create(\"FitnessMulti\", base.Fitness, weights=(0.4, 0.25, -0.25, 0.1))  # Conversion-Centric Goal Weights\n",
        "creator.create(\"Individual\", list, fitness=creator.FitnessMulti)\n",
        "\n",
        "toolbox = base.Toolbox()\n",
        "toolbox.register(\"attr_float\", random.uniform, 0, 1)  # Budget ratio\n",
        "toolbox.register(\"individual\", tools.initRepeat, creator.Individual, toolbox.attr_float, n=3)\n",
        "toolbox.register(\"population\", tools.initRepeat, list, toolbox.individual)\n",
        "toolbox.register(\"evaluate\", fitness_function)\n",
        "toolbox.register(\"mate\", tools.cxBlend, alpha=0.5)\n",
        "toolbox.register(\"mutate\", tools.mutGaussian, mu=0, sigma=1, indpb=0.2)\n",
        "toolbox.register(\"select\", tools.selNSGA2)\n",
        "\n",
        "# Create population and run the algorithm\n",
        "population = toolbox.population(n=300)\n",
        "algorithms.eaMuPlusLambda(population, toolbox, mu=100, lambda_=200, cxpb=0.7, mutpb=0.2, ngen=40, verbose=False)\n",
        "\n",
        "# Analyze the results\n",
        "front = tools.sortNondominated(population, len(population), first_front_only=True)[0]\n",
        "best_individual = min(front, key=lambda ind: ind.fitness.values[2])\n",
        "\n",
        "# Extract budget allocation\n",
        "best_budget_google, best_budget_meta, best_budget_microsoft = best_individual\n",
        "\n",
        "# Current best allocations (normalized to sum to 1)\n",
        "total_allocation = best_budget_google + best_budget_meta + best_budget_microsoft\n",
        "\n",
        "# Normalize the budgets so that their sum equals 1 (or 100%)\n",
        "best_budget_google_normalized = best_budget_google / total_allocation\n",
        "best_budget_meta_normalized = best_budget_meta / total_allocation\n",
        "best_budget_microsoft_normalized = best_budget_microsoft / total_allocation\n"
      ]
    },
    {
      "cell_type": "markdown",
      "source": [
        "## **Output from model**"
      ],
      "metadata": {
        "id": "p7qvhLk-aI7p"
      }
    },
    {
      "cell_type": "code",
      "source": [
        "# Print the normalized budget allocations\n",
        "print(f'\\nBest Budget Allocation:')\n",
        "print(f'Google Ads: {best_budget_google_normalized * 100:.2f}%')\n",
        "print(f'Meta Ads: {best_budget_meta_normalized * 100:.2f}%')\n",
        "print(f'Microsoft Ads: {best_budget_microsoft_normalized * 100:.2f}%')\n",
        "\n",
        "# Re-allocate the best-found budget\n",
        "data['Allocated_Budget'] = data.apply(lambda row: row['Cost'] * {\n",
        "    'Google': best_budget_google,\n",
        "    'Meta': best_budget_meta,\n",
        "    'Microsoft': best_budget_microsoft\n",
        "}.get(row['Platform'], 0), axis=1)\n",
        "\n",
        "# Handle any missing or infinite values in final allocation\n",
        "data['Allocated_Budget'].replace([np.inf, -np.inf], np.nan, inplace=True)\n",
        "data['Allocated_Budget'].fillna(0, inplace=True)\n",
        "\n",
        "# Calculate metrics\n",
        "total_clicks = data['Clicks'].sum()\n",
        "total_impressions = data['Impressions'].sum()\n",
        "total_cost = data['Allocated_Budget'].sum()\n",
        "total_revenue = data['Revenue'].sum()\n",
        "total_conversions = data['Conversions'].sum()\n",
        "\n",
        "cpc = total_cost / total_clicks\n",
        "cpi = total_cost / total_impressions\n",
        "conversion_rate = total_conversions / total_clicks\n",
        "\n",
        "print(\"\\n\")\n",
        "print(f'Cost/Click (CPC): {cpc:.2f}')\n",
        "print(f'Cost/Impression (CPI): {cpi:.2f}')\n",
        "print(f'Conversion Rate: {conversion_rate:.2%}')"
      ],
      "metadata": {
        "colab": {
          "base_uri": "https://localhost:8080/"
        },
        "id": "LPgF9s3JaRh-",
        "outputId": "b50c0815-f4b3-4425-837b-7024fa0e04d4"
      },
      "execution_count": null,
      "outputs": [
        {
          "output_type": "stream",
          "name": "stdout",
          "text": [
            "\n",
            "Best Budget Allocation:\n",
            "Google Ads: 28.27%\n",
            "Meta Ads: 25.83%\n",
            "Microsoft Ads: 45.90%\n",
            "\n",
            "\n",
            "Cost/Click (CPC): 0.68\n",
            "Cost/Impression (CPI): 0.00\n",
            "Conversion Rate: 2.90%\n"
          ]
        }
      ]
    },
    {
      "cell_type": "code",
      "execution_count": null,
      "metadata": {
        "id": "bv02YXJWgSPC"
      },
      "outputs": [],
      "source": [
        "# Predict on the test set\n",
        "y_pred_conv = model_conversions.predict(X_test)\n",
        "y_pred_rev = model_revenue.predict(X_test)"
      ]
    },
    {
      "cell_type": "code",
      "execution_count": null,
      "metadata": {
        "id": "i9VuYEjPgSC7"
      },
      "outputs": [],
      "source": [
        "# Calculate MSE\n",
        "mse_conv = mean_squared_error(y_test_conv, y_pred_conv)\n",
        "mse_rev = mean_squared_error(y_test_rev, y_pred_rev)\n",
        "\n",
        "# Calculate R-squared\n",
        "r2_conv = r2_score(y_test_conv, y_pred_conv)\n",
        "r2_rev = r2_score(y_test_rev, y_pred_rev)"
      ]
    },
    {
      "cell_type": "code",
      "execution_count": null,
      "metadata": {
        "colab": {
          "base_uri": "https://localhost:8080/"
        },
        "id": "PkNqCpKvgc_j",
        "outputId": "60a23f18-320e-4c09-8655-4383aba30c2f"
      },
      "outputs": [
        {
          "output_type": "stream",
          "name": "stdout",
          "text": [
            "MSE for Conversions: 39.86\n",
            "MSE for Revenue: 2808838.47\n",
            "R-squared for Conversions: 0.87\n",
            "R-squared for Revenue: 0.83\n"
          ]
        }
      ],
      "source": [
        "print(f'MSE for Conversions: {mse_conv:.2f}')\n",
        "print(f'MSE for Revenue: {mse_rev:.2f}')\n",
        "print(f'R-squared for Conversions: {r2_conv:.2f}')\n",
        "print(f'R-squared for Revenue: {r2_rev:.2f}')"
      ]
    },
    {
      "cell_type": "code",
      "execution_count": null,
      "metadata": {
        "colab": {
          "base_uri": "https://localhost:8080/",
          "height": 582
        },
        "id": "baUODeHsgPUo",
        "outputId": "2937fa5b-69f7-4666-c459-6a96e1cfe7b4"
      },
      "outputs": [
        {
          "output_type": "execute_result",
          "data": {
            "text/plain": [
              "Text(0.5, 1.0, 'Actual vs Predicted Conversions')"
            ]
          },
          "metadata": {},
          "execution_count": 41
        },
        {
          "output_type": "display_data",
          "data": {
            "text/plain": [
              "<Figure size 1200x600 with 1 Axes>"
            ],
            "image/png": "[encoded data removed]"
          },
          "metadata": {}
        }
      ],
      "source": [
        "# Plot actual vs predicted values for conversions\n",
        "plt.figure(figsize=(12, 6))\n",
        "plt.subplot(1, 2, 1)\n",
        "plt.scatter(y_test_conv, y_pred_conv, alpha=0.7)\n",
        "plt.xlabel('Actual Conversions')\n",
        "plt.ylabel('Predicted Conversions')\n",
        "plt.title('Actual vs Predicted Conversions')"
      ]
    },
    {
      "cell_type": "code",
      "execution_count": null,
      "metadata": {
        "colab": {
          "base_uri": "https://localhost:8080/",
          "height": 487
        },
        "id": "4q4xgR8eggqd",
        "outputId": "18ced7ca-5bfb-4e78-a565-7f83b2ef8aac"
      },
      "outputs": [
        {
          "output_type": "display_data",
          "data": {
            "text/plain": [
              "<Figure size 640x480 with 1 Axes>"
            ],
            "image/png": "[encoded data removed]"
          },
          "metadata": {}
        }
      ],
      "source": [
        "# Plot actual vs predicted values for revenue\n",
        "plt.subplot(1, 2, 2)\n",
        "plt.scatter(y_test_rev, y_pred_rev, alpha=0.7)\n",
        "plt.xlabel('Actual Revenue')\n",
        "plt.ylabel('Predicted Revenue')\n",
        "plt.title('Actual vs Predicted Revenue')\n",
        "\n",
        "plt.tight_layout()\n",
        "plt.show()\n"
      ]
    },
    {
      "cell_type": "markdown",
      "source": [
        "## **Input Section**\n",
        "Enter the input budget to get budget allocation."
      ],
      "metadata": {
        "id": "z63UzD6BKHF7"
      }
    },
    {
      "cell_type": "code",
      "source": [
        "# Take input from the user\n",
        "total_budget = float(input(\"Enter the total budget in USD: \"))\n",
        "\n",
        "# Calculate the budget for each channel\n",
        "google_ads_budget = total_budget * best_budget_google_normalized\n",
        "meta_ads_budget = total_budget * best_budget_meta_normalized\n",
        "microsoft_ads_budget = total_budget * best_budget_microsoft_normalized"
      ],
      "metadata": {
        "colab": {
          "base_uri": "https://localhost:8080/"
        },
        "id": "rnvd-xQCLlCu",
        "outputId": "11ebc237-43f9-4135-8f35-59c8f2567ddd"
      },
      "execution_count": null,
      "outputs": [
        {
          "name": "stdout",
          "output_type": "stream",
          "text": [
            "Enter the total budget in USD: 1000\n"
          ]
        }
      ]
    },
    {
      "cell_type": "markdown",
      "source": [
        "\n",
        "## **Results**\n",
        "The results from the algorithm are presented below, including budget allocation for each channel and visualizations."
      ],
      "metadata": {
        "id": "C-44YWdMLljP"
      }
    },
    {
      "cell_type": "code",
      "source": [
        "# Display the allocated budget for each channel\n",
        "print(f\"\\nInput: {total_budget:.2f} USD\\n\")\n",
        "print(f\"Output:\")\n",
        "print(f\"Google Ads Budget: {google_ads_budget:.2f} USD\")\n",
        "print(f\"Meta Ads Budget: {meta_ads_budget:.2f} USD\")\n",
        "print(f\"Microsoft Ads Budget: {microsoft_ads_budget:.2f} USD\")"
      ],
      "metadata": {
        "colab": {
          "base_uri": "https://localhost:8080/"
        },
        "id": "oXTc5qVcOAHw",
        "outputId": "0d2b1b55-c7f8-4a83-d858-d641b0147d15"
      },
      "execution_count": null,
      "outputs": [
        {
          "output_type": "stream",
          "name": "stdout",
          "text": [
            "\n",
            "Input: 1000.00 USD\n",
            "\n",
            "Output:\n",
            "Google Ads Budget: 282.74 USD\n",
            "Meta Ads Budget: 258.30 USD\n",
            "Microsoft Ads Budget: 458.96 USD\n"
          ]
        }
      ]
    },
    {
      "cell_type": "markdown",
      "source": [
        "### **Visualizations**"
      ],
      "metadata": {
        "id": "psLyJnDxOHvV"
      }
    },
    {
      "cell_type": "code",
      "source": [
        "# Data for the bar chart\n",
        "budgets = [google_ads_budget, meta_ads_budget, microsoft_ads_budget]\n",
        "channels = ['Google Ads', 'Meta Ads', 'Microsoft Ads']\n",
        "colors = ['red', 'blue', 'green']\n",
        "\n",
        "# Create the bar chart\n",
        "plt.figure(figsize=(3, 4))\n",
        "plt.bar(channels, budgets, color=colors, width=0.7)\n",
        "\n",
        "# Add labels and title\n",
        "plt.xlabel('Advertising Channels')\n",
        "plt.ylabel('Allocated Budget (USD)')\n",
        "plt.title('Budget Allocation')\n",
        "plt.show()"
      ],
      "metadata": {
        "colab": {
          "base_uri": "https://localhost:8080/",
          "height": 410
        },
        "id": "F9-R9lb5OMM0",
        "outputId": "b53e0f77-195d-4077-e0ef-bc3b0ce1f44a"
      },
      "execution_count": null,
      "outputs": [
        {
          "output_type": "display_data",
          "data": {
            "text/plain": [
              "<Figure size 300x400 with 1 Axes>"
            ],
            "image/png": "[encoded data removed]"
          },
          "metadata": {}
        }
      ]
    },
    {
      "cell_type": "markdown",
      "source": [
        "\n",
        "## **Conclusion**\n",
        "This project successfully demonstrates how to optimize budget distribution across various ad channels using a data-driven approach.\n",
        "Potential improvements include\n",
        "- Incorporating real-time data to further enhance the allocation strategy,\n",
        "- Including experimenting with website landing data to analyse the peak time of conversions and embed with the other factors of metrics.\n",
        "    "
      ],
      "metadata": {
        "id": "hms-Uck-Y_DU"
      }
    },
    {
      "cell_type": "markdown",
      "source": [
        "## New Section\n",
        "## **References**\n",
        "- [Gams](https://www.gams.com/latest/docs/T_LIBINCLUDE_MOO.html)\n",
        "- [GeeksForGeeks](https://www.geeksforgeeks.org/grey-wolf-optimization-introduction/)\n",
        "- [NPTEL IIT Guwahati](https://www.youtube.com/watch?v=Aq4pwGn5uWY&t=351s)\n",
        "- [Wikipedia](https://en.wikipedia.org/wiki/Multi-objective_optimization)\n"
      ],
      "metadata": {
        "id": "nj0tv5hGap-T"
      }
    }
  ],
  "metadata": {
    "colab": {
      "provenance": [],
      "include_colab_link": true
    },
    "kernelspec": {
      "display_name": "Python 3",
      "name": "python3"
    },
    "language_info": {
      "name": "python"
    }
  },
  "nbformat": 4,
  "nbformat_minor": 0
}